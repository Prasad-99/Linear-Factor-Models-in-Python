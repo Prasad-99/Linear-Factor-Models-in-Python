{
 "cells": [
  {
   "cell_type": "markdown",
   "id": "0a3d2eca",
   "metadata": {},
   "source": [
    "### Linear Factor Models"
   ]
  },
  {
   "cell_type": "markdown",
   "id": "3af9edb5",
   "metadata": {},
   "source": [
    "Risk_Factors.xlsx contains monthly observations of the risk-free rate and the three Fama–French risk factors (expressed as percentages, but without \"%\"), over the ten-year period from Jan 2004 through Dec 2013."
   ]
  },
  {
   "cell_type": "markdown",
   "id": "67e09c36",
   "metadata": {},
   "source": [
    "Using excess returns for the ten industry portfolios, calculate the following performance metrics:\n",
    "\n",
    "    Sharpe ratio\n",
    "    Sortino ratio (using risk-free rate as target)\n",
    "    Treynor ratio (using CAPM β)\n",
    "    Jensen's α\n",
    "    Three-factor α\n"
   ]
  },
  {
   "cell_type": "code",
   "execution_count": 93,
   "id": "7a9bcd2d",
   "metadata": {},
   "outputs": [],
   "source": [
    "import numpy as np\n",
    "import pandas as pd\n",
    "import matplotlib.pyplot as plt\n",
    "import statsmodels.api as sm\n",
    "\n",
    "%matplotlib inline\n",
    "\n",
    "import warnings "
   ]
  },
  {
   "cell_type": "code",
   "execution_count": 94,
   "id": "df4b6325",
   "metadata": {},
   "outputs": [],
   "source": [
    "warnings.filterwarnings('ignore')"
   ]
  },
  {
   "cell_type": "code",
   "execution_count": 95,
   "id": "a10de24d",
   "metadata": {},
   "outputs": [],
   "source": [
    "risk_factors = pd.read_excel('Risk_Factors.xlsx', index_col=0,parse_dates=True)"
   ]
  },
  {
   "cell_type": "code",
   "execution_count": 96,
   "id": "091b4106",
   "metadata": {},
   "outputs": [
    {
     "data": {
      "text/html": [
       "<div>\n",
       "<style scoped>\n",
       "    .dataframe tbody tr th:only-of-type {\n",
       "        vertical-align: middle;\n",
       "    }\n",
       "\n",
       "    .dataframe tbody tr th {\n",
       "        vertical-align: top;\n",
       "    }\n",
       "\n",
       "    .dataframe thead th {\n",
       "        text-align: right;\n",
       "    }\n",
       "</style>\n",
       "<table border=\"1\" class=\"dataframe\">\n",
       "  <thead>\n",
       "    <tr style=\"text-align: right;\">\n",
       "      <th></th>\n",
       "      <th>Rf</th>\n",
       "      <th>Rm-Rf</th>\n",
       "      <th>SMB</th>\n",
       "      <th>HML</th>\n",
       "    </tr>\n",
       "    <tr>\n",
       "      <th>Date</th>\n",
       "      <th></th>\n",
       "      <th></th>\n",
       "      <th></th>\n",
       "      <th></th>\n",
       "    </tr>\n",
       "  </thead>\n",
       "  <tbody>\n",
       "    <tr>\n",
       "      <th>200401</th>\n",
       "      <td>0.07</td>\n",
       "      <td>2.15</td>\n",
       "      <td>2.67</td>\n",
       "      <td>1.55</td>\n",
       "    </tr>\n",
       "    <tr>\n",
       "      <th>200402</th>\n",
       "      <td>0.06</td>\n",
       "      <td>1.40</td>\n",
       "      <td>-1.17</td>\n",
       "      <td>0.45</td>\n",
       "    </tr>\n",
       "    <tr>\n",
       "      <th>200403</th>\n",
       "      <td>0.09</td>\n",
       "      <td>-1.32</td>\n",
       "      <td>1.84</td>\n",
       "      <td>0.07</td>\n",
       "    </tr>\n",
       "    <tr>\n",
       "      <th>200404</th>\n",
       "      <td>0.08</td>\n",
       "      <td>-1.83</td>\n",
       "      <td>-2.59</td>\n",
       "      <td>-1.67</td>\n",
       "    </tr>\n",
       "    <tr>\n",
       "      <th>200405</th>\n",
       "      <td>0.06</td>\n",
       "      <td>1.17</td>\n",
       "      <td>-0.10</td>\n",
       "      <td>-0.33</td>\n",
       "    </tr>\n",
       "    <tr>\n",
       "      <th>...</th>\n",
       "      <td>...</td>\n",
       "      <td>...</td>\n",
       "      <td>...</td>\n",
       "      <td>...</td>\n",
       "    </tr>\n",
       "    <tr>\n",
       "      <th>201308</th>\n",
       "      <td>0.00</td>\n",
       "      <td>-2.69</td>\n",
       "      <td>0.29</td>\n",
       "      <td>-2.46</td>\n",
       "    </tr>\n",
       "    <tr>\n",
       "      <th>201309</th>\n",
       "      <td>0.00</td>\n",
       "      <td>3.76</td>\n",
       "      <td>2.85</td>\n",
       "      <td>-1.59</td>\n",
       "    </tr>\n",
       "    <tr>\n",
       "      <th>201310</th>\n",
       "      <td>0.00</td>\n",
       "      <td>4.17</td>\n",
       "      <td>-1.56</td>\n",
       "      <td>1.31</td>\n",
       "    </tr>\n",
       "    <tr>\n",
       "      <th>201311</th>\n",
       "      <td>0.00</td>\n",
       "      <td>3.12</td>\n",
       "      <td>1.34</td>\n",
       "      <td>-0.33</td>\n",
       "    </tr>\n",
       "    <tr>\n",
       "      <th>201312</th>\n",
       "      <td>0.00</td>\n",
       "      <td>2.81</td>\n",
       "      <td>-0.43</td>\n",
       "      <td>-0.15</td>\n",
       "    </tr>\n",
       "  </tbody>\n",
       "</table>\n",
       "<p>120 rows × 4 columns</p>\n",
       "</div>"
      ],
      "text/plain": [
       "          Rf  Rm-Rf   SMB   HML\n",
       "Date                           \n",
       "200401  0.07   2.15  2.67  1.55\n",
       "200402  0.06   1.40 -1.17  0.45\n",
       "200403  0.09  -1.32  1.84  0.07\n",
       "200404  0.08  -1.83 -2.59 -1.67\n",
       "200405  0.06   1.17 -0.10 -0.33\n",
       "...      ...    ...   ...   ...\n",
       "201308  0.00  -2.69  0.29 -2.46\n",
       "201309  0.00   3.76  2.85 -1.59\n",
       "201310  0.00   4.17 -1.56  1.31\n",
       "201311  0.00   3.12  1.34 -0.33\n",
       "201312  0.00   2.81 -0.43 -0.15\n",
       "\n",
       "[120 rows x 4 columns]"
      ]
     },
     "execution_count": 96,
     "metadata": {},
     "output_type": "execute_result"
    }
   ],
   "source": [
    "risk_factors"
   ]
  },
  {
   "cell_type": "code",
   "execution_count": 97,
   "id": "f1eb6ee7",
   "metadata": {},
   "outputs": [],
   "source": [
    "market_portfolio = pd.read_excel('Market_Portfolio.xlsx',index_col=0,parse_dates=True)"
   ]
  },
  {
   "cell_type": "code",
   "execution_count": 98,
   "id": "7a6db585",
   "metadata": {},
   "outputs": [
    {
     "data": {
      "text/html": [
       "<div>\n",
       "<style scoped>\n",
       "    .dataframe tbody tr th:only-of-type {\n",
       "        vertical-align: middle;\n",
       "    }\n",
       "\n",
       "    .dataframe tbody tr th {\n",
       "        vertical-align: top;\n",
       "    }\n",
       "\n",
       "    .dataframe thead th {\n",
       "        text-align: right;\n",
       "    }\n",
       "</style>\n",
       "<table border=\"1\" class=\"dataframe\">\n",
       "  <thead>\n",
       "    <tr style=\"text-align: right;\">\n",
       "      <th></th>\n",
       "      <th>Market</th>\n",
       "    </tr>\n",
       "    <tr>\n",
       "      <th>Date</th>\n",
       "      <th></th>\n",
       "    </tr>\n",
       "  </thead>\n",
       "  <tbody>\n",
       "    <tr>\n",
       "      <th>200401</th>\n",
       "      <td>2.22</td>\n",
       "    </tr>\n",
       "    <tr>\n",
       "      <th>200402</th>\n",
       "      <td>1.46</td>\n",
       "    </tr>\n",
       "    <tr>\n",
       "      <th>200403</th>\n",
       "      <td>-1.23</td>\n",
       "    </tr>\n",
       "    <tr>\n",
       "      <th>200404</th>\n",
       "      <td>-1.75</td>\n",
       "    </tr>\n",
       "    <tr>\n",
       "      <th>200405</th>\n",
       "      <td>1.23</td>\n",
       "    </tr>\n",
       "    <tr>\n",
       "      <th>...</th>\n",
       "      <td>...</td>\n",
       "    </tr>\n",
       "    <tr>\n",
       "      <th>201308</th>\n",
       "      <td>-2.69</td>\n",
       "    </tr>\n",
       "    <tr>\n",
       "      <th>201309</th>\n",
       "      <td>3.76</td>\n",
       "    </tr>\n",
       "    <tr>\n",
       "      <th>201310</th>\n",
       "      <td>4.17</td>\n",
       "    </tr>\n",
       "    <tr>\n",
       "      <th>201311</th>\n",
       "      <td>3.12</td>\n",
       "    </tr>\n",
       "    <tr>\n",
       "      <th>201312</th>\n",
       "      <td>2.81</td>\n",
       "    </tr>\n",
       "  </tbody>\n",
       "</table>\n",
       "<p>120 rows × 1 columns</p>\n",
       "</div>"
      ],
      "text/plain": [
       "        Market\n",
       "Date          \n",
       "200401    2.22\n",
       "200402    1.46\n",
       "200403   -1.23\n",
       "200404   -1.75\n",
       "200405    1.23\n",
       "...        ...\n",
       "201308   -2.69\n",
       "201309    3.76\n",
       "201310    4.17\n",
       "201311    3.12\n",
       "201312    2.81\n",
       "\n",
       "[120 rows x 1 columns]"
      ]
     },
     "execution_count": 98,
     "metadata": {},
     "output_type": "execute_result"
    }
   ],
   "source": [
    "market_portfolio"
   ]
  },
  {
   "cell_type": "code",
   "execution_count": 99,
   "id": "d81ba41a",
   "metadata": {},
   "outputs": [
    {
     "data": {
      "text/html": [
       "<div>\n",
       "<style scoped>\n",
       "    .dataframe tbody tr th:only-of-type {\n",
       "        vertical-align: middle;\n",
       "    }\n",
       "\n",
       "    .dataframe tbody tr th {\n",
       "        vertical-align: top;\n",
       "    }\n",
       "\n",
       "    .dataframe thead th {\n",
       "        text-align: right;\n",
       "    }\n",
       "</style>\n",
       "<table border=\"1\" class=\"dataframe\">\n",
       "  <thead>\n",
       "    <tr style=\"text-align: right;\">\n",
       "      <th></th>\n",
       "      <th>NoDur</th>\n",
       "      <th>Durbl</th>\n",
       "      <th>Manuf</th>\n",
       "      <th>Enrgy</th>\n",
       "      <th>HiTec</th>\n",
       "      <th>Telcm</th>\n",
       "      <th>Shops</th>\n",
       "      <th>Hlth</th>\n",
       "      <th>Utils</th>\n",
       "      <th>Other</th>\n",
       "    </tr>\n",
       "    <tr>\n",
       "      <th>Date</th>\n",
       "      <th></th>\n",
       "      <th></th>\n",
       "      <th></th>\n",
       "      <th></th>\n",
       "      <th></th>\n",
       "      <th></th>\n",
       "      <th></th>\n",
       "      <th></th>\n",
       "      <th></th>\n",
       "      <th></th>\n",
       "    </tr>\n",
       "  </thead>\n",
       "  <tbody>\n",
       "    <tr>\n",
       "      <th>200401</th>\n",
       "      <td>0.06</td>\n",
       "      <td>-1.07</td>\n",
       "      <td>-0.62</td>\n",
       "      <td>0.44</td>\n",
       "      <td>4.53</td>\n",
       "      <td>1.41</td>\n",
       "      <td>0.45</td>\n",
       "      <td>3.09</td>\n",
       "      <td>1.92</td>\n",
       "      <td>2.88</td>\n",
       "    </tr>\n",
       "    <tr>\n",
       "      <th>200402</th>\n",
       "      <td>4.25</td>\n",
       "      <td>-0.07</td>\n",
       "      <td>1.95</td>\n",
       "      <td>4.69</td>\n",
       "      <td>-2.92</td>\n",
       "      <td>-0.52</td>\n",
       "      <td>6.09</td>\n",
       "      <td>0.89</td>\n",
       "      <td>2.07</td>\n",
       "      <td>2.16</td>\n",
       "    </tr>\n",
       "    <tr>\n",
       "      <th>200403</th>\n",
       "      <td>-0.09</td>\n",
       "      <td>-1.15</td>\n",
       "      <td>-0.27</td>\n",
       "      <td>-0.13</td>\n",
       "      <td>-2.55</td>\n",
       "      <td>-2.07</td>\n",
       "      <td>0.29</td>\n",
       "      <td>-3.96</td>\n",
       "      <td>1.13</td>\n",
       "      <td>-0.63</td>\n",
       "    </tr>\n",
       "    <tr>\n",
       "      <th>200404</th>\n",
       "      <td>1.42</td>\n",
       "      <td>2.30</td>\n",
       "      <td>-0.17</td>\n",
       "      <td>2.52</td>\n",
       "      <td>-4.91</td>\n",
       "      <td>-0.48</td>\n",
       "      <td>-2.70</td>\n",
       "      <td>3.54</td>\n",
       "      <td>-3.55</td>\n",
       "      <td>-3.76</td>\n",
       "    </tr>\n",
       "    <tr>\n",
       "      <th>200405</th>\n",
       "      <td>-1.89</td>\n",
       "      <td>-1.64</td>\n",
       "      <td>1.61</td>\n",
       "      <td>0.39</td>\n",
       "      <td>4.85</td>\n",
       "      <td>-2.95</td>\n",
       "      <td>0.30</td>\n",
       "      <td>-0.42</td>\n",
       "      <td>1.28</td>\n",
       "      <td>1.86</td>\n",
       "    </tr>\n",
       "    <tr>\n",
       "      <th>...</th>\n",
       "      <td>...</td>\n",
       "      <td>...</td>\n",
       "      <td>...</td>\n",
       "      <td>...</td>\n",
       "      <td>...</td>\n",
       "      <td>...</td>\n",
       "      <td>...</td>\n",
       "      <td>...</td>\n",
       "      <td>...</td>\n",
       "      <td>...</td>\n",
       "    </tr>\n",
       "    <tr>\n",
       "      <th>201308</th>\n",
       "      <td>-4.00</td>\n",
       "      <td>-1.00</td>\n",
       "      <td>-1.95</td>\n",
       "      <td>-1.83</td>\n",
       "      <td>-0.12</td>\n",
       "      <td>-3.28</td>\n",
       "      <td>-4.21</td>\n",
       "      <td>-3.49</td>\n",
       "      <td>-4.43</td>\n",
       "      <td>-3.66</td>\n",
       "    </tr>\n",
       "    <tr>\n",
       "      <th>201309</th>\n",
       "      <td>1.94</td>\n",
       "      <td>6.46</td>\n",
       "      <td>5.20</td>\n",
       "      <td>2.03</td>\n",
       "      <td>3.77</td>\n",
       "      <td>4.33</td>\n",
       "      <td>4.46</td>\n",
       "      <td>4.19</td>\n",
       "      <td>1.05</td>\n",
       "      <td>3.83</td>\n",
       "    </tr>\n",
       "    <tr>\n",
       "      <th>201310</th>\n",
       "      <td>4.75</td>\n",
       "      <td>0.72</td>\n",
       "      <td>4.56</td>\n",
       "      <td>4.86</td>\n",
       "      <td>3.80</td>\n",
       "      <td>5.52</td>\n",
       "      <td>5.08</td>\n",
       "      <td>3.47</td>\n",
       "      <td>3.35</td>\n",
       "      <td>3.87</td>\n",
       "    </tr>\n",
       "    <tr>\n",
       "      <th>201311</th>\n",
       "      <td>1.29</td>\n",
       "      <td>1.81</td>\n",
       "      <td>2.95</td>\n",
       "      <td>0.85</td>\n",
       "      <td>3.65</td>\n",
       "      <td>0.27</td>\n",
       "      <td>3.67</td>\n",
       "      <td>4.54</td>\n",
       "      <td>-1.81</td>\n",
       "      <td>4.74</td>\n",
       "    </tr>\n",
       "    <tr>\n",
       "      <th>201312</th>\n",
       "      <td>2.65</td>\n",
       "      <td>1.18</td>\n",
       "      <td>3.13</td>\n",
       "      <td>2.95</td>\n",
       "      <td>4.04</td>\n",
       "      <td>3.96</td>\n",
       "      <td>0.20</td>\n",
       "      <td>0.71</td>\n",
       "      <td>1.79</td>\n",
       "      <td>3.11</td>\n",
       "    </tr>\n",
       "  </tbody>\n",
       "</table>\n",
       "<p>120 rows × 10 columns</p>\n",
       "</div>"
      ],
      "text/plain": [
       "        NoDur  Durbl  Manuf  Enrgy  HiTec  Telcm  Shops  Hlth  Utils  Other\n",
       "Date                                                                       \n",
       "200401   0.06  -1.07  -0.62   0.44   4.53   1.41   0.45  3.09   1.92   2.88\n",
       "200402   4.25  -0.07   1.95   4.69  -2.92  -0.52   6.09  0.89   2.07   2.16\n",
       "200403  -0.09  -1.15  -0.27  -0.13  -2.55  -2.07   0.29 -3.96   1.13  -0.63\n",
       "200404   1.42   2.30  -0.17   2.52  -4.91  -0.48  -2.70  3.54  -3.55  -3.76\n",
       "200405  -1.89  -1.64   1.61   0.39   4.85  -2.95   0.30 -0.42   1.28   1.86\n",
       "...       ...    ...    ...    ...    ...    ...    ...   ...    ...    ...\n",
       "201308  -4.00  -1.00  -1.95  -1.83  -0.12  -3.28  -4.21 -3.49  -4.43  -3.66\n",
       "201309   1.94   6.46   5.20   2.03   3.77   4.33   4.46  4.19   1.05   3.83\n",
       "201310   4.75   0.72   4.56   4.86   3.80   5.52   5.08  3.47   3.35   3.87\n",
       "201311   1.29   1.81   2.95   0.85   3.65   0.27   3.67  4.54  -1.81   4.74\n",
       "201312   2.65   1.18   3.13   2.95   4.04   3.96   0.20  0.71   1.79   3.11\n",
       "\n",
       "[120 rows x 10 columns]"
      ]
     },
     "execution_count": 99,
     "metadata": {},
     "output_type": "execute_result"
    }
   ],
   "source": [
    "industry_portfolio = pd.read_csv('Industry_Portfolios.csv',index_col=0,parse_dates=True)\n",
    "industry_portfolio"
   ]
  },
  {
   "cell_type": "code",
   "execution_count": 100,
   "id": "f0f196da",
   "metadata": {},
   "outputs": [],
   "source": [
    "# Sharpe Ratio"
   ]
  },
  {
   "cell_type": "code",
   "execution_count": 101,
   "id": "1de402e6",
   "metadata": {},
   "outputs": [],
   "source": [
    "def CalculateSharpe(industry_df,COLS,risk_df):\n",
    "    \n",
    "    sharpe_df = pd.DataFrame(index = industry_df.columns,columns=['Sharpe Ratio'])\n",
    "    i = 0\n",
    "    for col in COLS:\n",
    "        mean_returns = \\\n",
    "            (industry_df[col] - risk_df['Rf']).mean()\n",
    "        \n",
    "        std_return = \\\n",
    "            (industry_df[col] - risk_df['Rf']).std()\n",
    "        \n",
    "        sharpe_df['Sharpe Ratio'][i] = \\\n",
    "            mean_returns/std_return\n",
    "        \n",
    "        i = i+1\n",
    "    \n",
    "    return sharpe_df"
   ]
  },
  {
   "cell_type": "code",
   "execution_count": 102,
   "id": "519b1a05",
   "metadata": {},
   "outputs": [],
   "source": [
    "Sharpe = CalculateSharpe(industry_portfolio,industry_portfolio.columns,risk_factors)"
   ]
  },
  {
   "cell_type": "code",
   "execution_count": 103,
   "id": "5923c54b",
   "metadata": {},
   "outputs": [],
   "source": [
    "# Sortino Ratio"
   ]
  },
  {
   "cell_type": "code",
   "execution_count": 104,
   "id": "85700c0e",
   "metadata": {},
   "outputs": [],
   "source": [
    "def CalculateSortino(industry_df,COLS,risk_df):\n",
    "    \n",
    "    sortino_df = pd.DataFrame(index = industry_df.columns,columns=['Sortino Ratio'])\n",
    "    j=0\n",
    "    \n",
    "    for col in COLS:\n",
    "        \n",
    "        negative_return = \\\n",
    "            np.array([(min(industry_df[col].iloc[i] - risk_df['Rf'].iloc[i], 0))**2 \\\n",
    "                     for i in range(0, len(industry_df))])\n",
    "\n",
    "        semi_std = \\\n",
    "            np.sqrt(negative_return.mean())\n",
    "        \n",
    "        mean_returns = \\\n",
    "            (industry_df[col] - risk_df['Rf']).mean()\n",
    "\n",
    "        sortino_df['Sortino Ratio'][j] = \\\n",
    "            mean_returns/semi_std\n",
    "\n",
    "        j=j+1\n",
    "\n",
    "    return sortino_df"
   ]
  },
  {
   "cell_type": "code",
   "execution_count": 105,
   "id": "561ca84f",
   "metadata": {},
   "outputs": [
    {
     "data": {
      "text/html": [
       "<div>\n",
       "<style scoped>\n",
       "    .dataframe tbody tr th:only-of-type {\n",
       "        vertical-align: middle;\n",
       "    }\n",
       "\n",
       "    .dataframe tbody tr th {\n",
       "        vertical-align: top;\n",
       "    }\n",
       "\n",
       "    .dataframe thead th {\n",
       "        text-align: right;\n",
       "    }\n",
       "</style>\n",
       "<table border=\"1\" class=\"dataframe\">\n",
       "  <thead>\n",
       "    <tr style=\"text-align: right;\">\n",
       "      <th></th>\n",
       "      <th>Sortino Ratio</th>\n",
       "    </tr>\n",
       "  </thead>\n",
       "  <tbody>\n",
       "    <tr>\n",
       "      <th>NoDur</th>\n",
       "      <td>0.350804</td>\n",
       "    </tr>\n",
       "    <tr>\n",
       "      <th>Durbl</th>\n",
       "      <td>0.111967</td>\n",
       "    </tr>\n",
       "    <tr>\n",
       "      <th>Manuf</th>\n",
       "      <td>0.24126</td>\n",
       "    </tr>\n",
       "    <tr>\n",
       "      <th>Enrgy</th>\n",
       "      <td>0.273612</td>\n",
       "    </tr>\n",
       "    <tr>\n",
       "      <th>HiTec</th>\n",
       "      <td>0.17062</td>\n",
       "    </tr>\n",
       "    <tr>\n",
       "      <th>Telcm</th>\n",
       "      <td>0.24494</td>\n",
       "    </tr>\n",
       "    <tr>\n",
       "      <th>Shops</th>\n",
       "      <td>0.293032</td>\n",
       "    </tr>\n",
       "    <tr>\n",
       "      <th>Hlth</th>\n",
       "      <td>0.270294</td>\n",
       "    </tr>\n",
       "    <tr>\n",
       "      <th>Utils</th>\n",
       "      <td>0.290044</td>\n",
       "    </tr>\n",
       "    <tr>\n",
       "      <th>Other</th>\n",
       "      <td>0.087351</td>\n",
       "    </tr>\n",
       "  </tbody>\n",
       "</table>\n",
       "</div>"
      ],
      "text/plain": [
       "      Sortino Ratio\n",
       "NoDur      0.350804\n",
       "Durbl      0.111967\n",
       "Manuf       0.24126\n",
       "Enrgy      0.273612\n",
       "HiTec       0.17062\n",
       "Telcm       0.24494\n",
       "Shops      0.293032\n",
       "Hlth       0.270294\n",
       "Utils      0.290044\n",
       "Other      0.087351"
      ]
     },
     "execution_count": 105,
     "metadata": {},
     "output_type": "execute_result"
    }
   ],
   "source": [
    "Sortino = CalculateSortino(industry_portfolio,industry_portfolio.columns,risk_factors)\n",
    "Sortino"
   ]
  },
  {
   "cell_type": "code",
   "execution_count": 106,
   "id": "c5694b0f",
   "metadata": {},
   "outputs": [],
   "source": [
    "# Treynor Ratio"
   ]
  },
  {
   "cell_type": "code",
   "execution_count": 107,
   "id": "f6194ee7",
   "metadata": {},
   "outputs": [],
   "source": [
    "def Regress(industry_df,COLS,risk_df):\n",
    "    \n",
    "    beta_df = pd.DataFrame(index=industry_df.columns,columns=['Intercept','Beta'])\n",
    "    i=0\n",
    "    \n",
    "    for col in COLS:\n",
    "        X = sm.add_constant(risk_df['Rm-Rf'])\n",
    "        y = industry_df[col]\n",
    "        model = sm.OLS(y,X).fit()\n",
    "        \n",
    "        beta_df['Intercept'][i] = \\\n",
    "            model.params[0]\n",
    "        \n",
    "        beta_df['Beta'][i] = \\\n",
    "            model.params[1]\n",
    "        \n",
    "        i=i+1\n",
    "        \n",
    "    return beta_df"
   ]
  },
  {
   "cell_type": "code",
   "execution_count": 108,
   "id": "2ef75abd",
   "metadata": {},
   "outputs": [],
   "source": [
    "def CalculateTreynor(industry_df,COLS,risk_df):\n",
    "    \n",
    "    Treynor_df = pd.DataFrame(index=industry_df.columns,columns=['Treynor Ratio'])\n",
    "    i=0\n",
    "    beta_df = Regress(industry_df,COLS,risk_df)\n",
    "    \n",
    "    for col in COLS:\n",
    "        mean_returns = \\\n",
    "            (industry_df[col] - risk_df['Rf']).mean()\n",
    "        \n",
    "        Treynor_df['Treynor Ratio'][i] = \\\n",
    "            (mean_returns/beta_df['Beta'][i])\n",
    "        \n",
    "        i=i+1\n",
    "        \n",
    "    return Treynor_df"
   ]
  },
  {
   "cell_type": "code",
   "execution_count": 109,
   "id": "a828f343",
   "metadata": {},
   "outputs": [],
   "source": [
    "Treynor = CalculateTreynor(industry_portfolio,industry_portfolio.columns,risk_factors)"
   ]
  },
  {
   "cell_type": "code",
   "execution_count": 110,
   "id": "b727f8e2",
   "metadata": {},
   "outputs": [],
   "source": [
    "# Jenson's Alpha"
   ]
  },
  {
   "cell_type": "code",
   "execution_count": 111,
   "id": "39b5e99c",
   "metadata": {},
   "outputs": [],
   "source": [
    "beta_df = Regress(industry_portfolio,industry_portfolio.columns,risk_factors)"
   ]
  },
  {
   "cell_type": "code",
   "execution_count": 112,
   "id": "0338f4d3",
   "metadata": {},
   "outputs": [
    {
     "data": {
      "text/html": [
       "<div>\n",
       "<style scoped>\n",
       "    .dataframe tbody tr th:only-of-type {\n",
       "        vertical-align: middle;\n",
       "    }\n",
       "\n",
       "    .dataframe tbody tr th {\n",
       "        vertical-align: top;\n",
       "    }\n",
       "\n",
       "    .dataframe thead th {\n",
       "        text-align: right;\n",
       "    }\n",
       "</style>\n",
       "<table border=\"1\" class=\"dataframe\">\n",
       "  <thead>\n",
       "    <tr style=\"text-align: right;\">\n",
       "      <th></th>\n",
       "      <th>Intercept</th>\n",
       "      <th>Beta</th>\n",
       "    </tr>\n",
       "  </thead>\n",
       "  <tbody>\n",
       "    <tr>\n",
       "      <th>NoDur</th>\n",
       "      <td>0.498873</td>\n",
       "      <td>0.650674</td>\n",
       "    </tr>\n",
       "    <tr>\n",
       "      <th>Durbl</th>\n",
       "      <td>-0.288747</td>\n",
       "      <td>1.646304</td>\n",
       "    </tr>\n",
       "    <tr>\n",
       "      <th>Manuf</th>\n",
       "      <td>0.28965</td>\n",
       "      <td>1.164859</td>\n",
       "    </tr>\n",
       "    <tr>\n",
       "      <th>Enrgy</th>\n",
       "      <td>0.633641</td>\n",
       "      <td>0.962457</td>\n",
       "    </tr>\n",
       "    <tr>\n",
       "      <th>HiTec</th>\n",
       "      <td>0.065132</td>\n",
       "      <td>1.129317</td>\n",
       "    </tr>\n",
       "    <tr>\n",
       "      <th>Telcm</th>\n",
       "      <td>0.323504</td>\n",
       "      <td>0.898651</td>\n",
       "    </tr>\n",
       "    <tr>\n",
       "      <th>Shops</th>\n",
       "      <td>0.403248</td>\n",
       "      <td>0.826445</td>\n",
       "    </tr>\n",
       "    <tr>\n",
       "      <th>Hlth</th>\n",
       "      <td>0.366124</td>\n",
       "      <td>0.67282</td>\n",
       "    </tr>\n",
       "    <tr>\n",
       "      <th>Utils</th>\n",
       "      <td>0.575679</td>\n",
       "      <td>0.533939</td>\n",
       "    </tr>\n",
       "    <tr>\n",
       "      <th>Other</th>\n",
       "      <td>-0.258352</td>\n",
       "      <td>1.203922</td>\n",
       "    </tr>\n",
       "  </tbody>\n",
       "</table>\n",
       "</div>"
      ],
      "text/plain": [
       "      Intercept      Beta\n",
       "NoDur  0.498873  0.650674\n",
       "Durbl -0.288747  1.646304\n",
       "Manuf   0.28965  1.164859\n",
       "Enrgy  0.633641  0.962457\n",
       "HiTec  0.065132  1.129317\n",
       "Telcm  0.323504  0.898651\n",
       "Shops  0.403248  0.826445\n",
       "Hlth   0.366124   0.67282\n",
       "Utils  0.575679  0.533939\n",
       "Other -0.258352  1.203922"
      ]
     },
     "execution_count": 112,
     "metadata": {},
     "output_type": "execute_result"
    }
   ],
   "source": [
    "beta_df"
   ]
  },
  {
   "cell_type": "code",
   "execution_count": 113,
   "id": "0f3bba1f",
   "metadata": {},
   "outputs": [],
   "source": [
    "def CalculateJenson(industry_df,COLS,risk_df):\n",
    "    Jenson_df = pd.DataFrame(index=industry_df.columns,columns=['Jenson Alpha'])\n",
    "    i=0\n",
    "    beta_df = Regress(industry_df,COLS,risk_df)\n",
    "    \n",
    "    for col in COLS:\n",
    "        mean_return = \\\n",
    "            (industry_df[col] - risk_df['Rf']).mean()\n",
    "        \n",
    "        mean_market = \\\n",
    "            risk_df['Rm-Rf'].mean()\n",
    "        \n",
    "        Jenson_df['Jenson Alpha'][i] = \\\n",
    "            (mean_return - beta_df['Beta'][i]*mean_market)\n",
    "        \n",
    "        i=i+1\n",
    "        \n",
    "    return Jenson_df"
   ]
  },
  {
   "cell_type": "code",
   "execution_count": 114,
   "id": "05417e9c",
   "metadata": {},
   "outputs": [],
   "source": [
    "Jenson = CalculateJenson(industry_portfolio,industry_portfolio.columns,risk_factors)"
   ]
  },
  {
   "cell_type": "code",
   "execution_count": 115,
   "id": "8bed03f7",
   "metadata": {},
   "outputs": [],
   "source": [
    "# Fama French Model"
   ]
  },
  {
   "cell_type": "code",
   "execution_count": 116,
   "id": "575af3f9",
   "metadata": {},
   "outputs": [],
   "source": [
    "def RegressFFM(industry_df,COLS,risk_df):\n",
    "    FFM_df = pd.DataFrame(index=industry_df.columns,columns=['Alpha','Beta','Gamma','Delta'])\n",
    "    i=0\n",
    "    \n",
    "    for col in COLS:\n",
    "        X = sm.add_constant(risk_df[['Rm-Rf','SMB','HML']])\n",
    "        y = industry_df[col] - risk_df['Rf']\n",
    "        model = sm.OLS(y,X).fit()\n",
    "        \n",
    "        j=0\n",
    "        for c in FFM_df.columns:\n",
    "            FFM_df[c][i] = \\\n",
    "                model.params[j]\n",
    "            \n",
    "            j=j+1\n",
    "        \n",
    "        i=i+1\n",
    "        \n",
    "    return FFM_df"
   ]
  },
  {
   "cell_type": "code",
   "execution_count": 117,
   "id": "4ecd3aee",
   "metadata": {},
   "outputs": [
    {
     "data": {
      "text/html": [
       "<div>\n",
       "<style scoped>\n",
       "    .dataframe tbody tr th:only-of-type {\n",
       "        vertical-align: middle;\n",
       "    }\n",
       "\n",
       "    .dataframe tbody tr th {\n",
       "        vertical-align: top;\n",
       "    }\n",
       "\n",
       "    .dataframe thead th {\n",
       "        text-align: right;\n",
       "    }\n",
       "</style>\n",
       "<table border=\"1\" class=\"dataframe\">\n",
       "  <thead>\n",
       "    <tr style=\"text-align: right;\">\n",
       "      <th></th>\n",
       "      <th>Alpha</th>\n",
       "      <th>Beta</th>\n",
       "      <th>Gamma</th>\n",
       "      <th>Delta</th>\n",
       "    </tr>\n",
       "  </thead>\n",
       "  <tbody>\n",
       "    <tr>\n",
       "      <th>NoDur</th>\n",
       "      <td>0.386704</td>\n",
       "      <td>0.712134</td>\n",
       "      <td>-0.229102</td>\n",
       "      <td>-0.023342</td>\n",
       "    </tr>\n",
       "    <tr>\n",
       "      <th>Durbl</th>\n",
       "      <td>-0.474342</td>\n",
       "      <td>1.447452</td>\n",
       "      <td>0.670878</td>\n",
       "      <td>0.240949</td>\n",
       "    </tr>\n",
       "    <tr>\n",
       "      <th>Manuf</th>\n",
       "      <td>0.153285</td>\n",
       "      <td>1.142282</td>\n",
       "      <td>0.087388</td>\n",
       "      <td>0.027727</td>\n",
       "    </tr>\n",
       "    <tr>\n",
       "      <th>Enrgy</th>\n",
       "      <td>0.523007</td>\n",
       "      <td>1.028354</td>\n",
       "      <td>-0.25936</td>\n",
       "      <td>-0.008158</td>\n",
       "    </tr>\n",
       "    <tr>\n",
       "      <th>HiTec</th>\n",
       "      <td>-0.065979</td>\n",
       "      <td>1.152803</td>\n",
       "      <td>0.335674</td>\n",
       "      <td>-0.556947</td>\n",
       "    </tr>\n",
       "    <tr>\n",
       "      <th>Telcm</th>\n",
       "      <td>0.200724</td>\n",
       "      <td>0.924137</td>\n",
       "      <td>-0.080299</td>\n",
       "      <td>-0.019063</td>\n",
       "    </tr>\n",
       "    <tr>\n",
       "      <th>Shops</th>\n",
       "      <td>0.255941</td>\n",
       "      <td>0.770227</td>\n",
       "      <td>0.280191</td>\n",
       "      <td>-0.03908</td>\n",
       "    </tr>\n",
       "    <tr>\n",
       "      <th>Hlth</th>\n",
       "      <td>0.257472</td>\n",
       "      <td>0.751976</td>\n",
       "      <td>-0.212655</td>\n",
       "      <td>-0.143765</td>\n",
       "    </tr>\n",
       "    <tr>\n",
       "      <th>Utils</th>\n",
       "      <td>0.474411</td>\n",
       "      <td>0.631827</td>\n",
       "      <td>-0.387961</td>\n",
       "      <td>-0.016881</td>\n",
       "    </tr>\n",
       "    <tr>\n",
       "      <th>Other</th>\n",
       "      <td>-0.404412</td>\n",
       "      <td>1.123473</td>\n",
       "      <td>-0.061676</td>\n",
       "      <td>0.547325</td>\n",
       "    </tr>\n",
       "  </tbody>\n",
       "</table>\n",
       "</div>"
      ],
      "text/plain": [
       "          Alpha      Beta     Gamma     Delta\n",
       "NoDur  0.386704  0.712134 -0.229102 -0.023342\n",
       "Durbl -0.474342  1.447452  0.670878  0.240949\n",
       "Manuf  0.153285  1.142282  0.087388  0.027727\n",
       "Enrgy  0.523007  1.028354  -0.25936 -0.008158\n",
       "HiTec -0.065979  1.152803  0.335674 -0.556947\n",
       "Telcm  0.200724  0.924137 -0.080299 -0.019063\n",
       "Shops  0.255941  0.770227  0.280191  -0.03908\n",
       "Hlth   0.257472  0.751976 -0.212655 -0.143765\n",
       "Utils  0.474411  0.631827 -0.387961 -0.016881\n",
       "Other -0.404412  1.123473 -0.061676  0.547325"
      ]
     },
     "execution_count": 117,
     "metadata": {},
     "output_type": "execute_result"
    }
   ],
   "source": [
    "FFM = RegressFFM(industry_portfolio,industry_portfolio.columns,risk_factors)\n",
    "FFM"
   ]
  },
  {
   "cell_type": "code",
   "execution_count": 118,
   "id": "f0a0b0f3",
   "metadata": {},
   "outputs": [],
   "source": [
    "dataframes = [Sharpe,Sortino,Treynor,Jenson]\n",
    "df = pd.DataFrame(index = Sharpe.index)\n",
    "\n",
    "for i in range(0,len(dataframes)):\n",
    "    df = \\\n",
    "        df.merge(dataframes[i], right_index=True, left_index=True)"
   ]
  },
  {
   "cell_type": "code",
   "execution_count": 119,
   "id": "58d08137",
   "metadata": {},
   "outputs": [],
   "source": [
    "df = df.merge(FFM['Alpha'], right_index=True, left_index=True)"
   ]
  },
  {
   "cell_type": "code",
   "execution_count": 120,
   "id": "00e80a01",
   "metadata": {},
   "outputs": [],
   "source": [
    "df = df.rename(columns={'Alpha':'Three Factor Alpha'})"
   ]
  },
  {
   "cell_type": "code",
   "execution_count": 121,
   "id": "058bbfd9",
   "metadata": {},
   "outputs": [],
   "source": [
    "# Combine the performance metrics"
   ]
  },
  {
   "cell_type": "code",
   "execution_count": 122,
   "id": "06cc8e1c",
   "metadata": {},
   "outputs": [
    {
     "data": {
      "text/html": [
       "<div>\n",
       "<style scoped>\n",
       "    .dataframe tbody tr th:only-of-type {\n",
       "        vertical-align: middle;\n",
       "    }\n",
       "\n",
       "    .dataframe tbody tr th {\n",
       "        vertical-align: top;\n",
       "    }\n",
       "\n",
       "    .dataframe thead th {\n",
       "        text-align: right;\n",
       "    }\n",
       "</style>\n",
       "<table border=\"1\" class=\"dataframe\">\n",
       "  <thead>\n",
       "    <tr style=\"text-align: right;\">\n",
       "      <th></th>\n",
       "      <th>Sharpe Ratio</th>\n",
       "      <th>Sortino Ratio</th>\n",
       "      <th>Treynor Ratio</th>\n",
       "      <th>Jenson Alpha</th>\n",
       "      <th>Three Factor Alpha</th>\n",
       "    </tr>\n",
       "  </thead>\n",
       "  <tbody>\n",
       "    <tr>\n",
       "      <th>NoDur</th>\n",
       "      <td>0.231099</td>\n",
       "      <td>0.350804</td>\n",
       "      <td>1.19197</td>\n",
       "      <td>0.371623</td>\n",
       "      <td>0.386704</td>\n",
       "    </tr>\n",
       "    <tr>\n",
       "      <th>Durbl</th>\n",
       "      <td>0.072356</td>\n",
       "      <td>0.111967</td>\n",
       "      <td>0.368148</td>\n",
       "      <td>-0.415997</td>\n",
       "      <td>-0.474342</td>\n",
       "    </tr>\n",
       "    <tr>\n",
       "      <th>Manuf</th>\n",
       "      <td>0.166616</td>\n",
       "      <td>0.24126</td>\n",
       "      <td>0.76025</td>\n",
       "      <td>0.1624</td>\n",
       "      <td>0.153285</td>\n",
       "    </tr>\n",
       "    <tr>\n",
       "      <th>Enrgy</th>\n",
       "      <td>0.181708</td>\n",
       "      <td>0.273612</td>\n",
       "      <td>1.146977</td>\n",
       "      <td>0.506391</td>\n",
       "      <td>0.523007</td>\n",
       "    </tr>\n",
       "    <tr>\n",
       "      <th>HiTec</th>\n",
       "      <td>0.118552</td>\n",
       "      <td>0.17062</td>\n",
       "      <td>0.565829</td>\n",
       "      <td>-0.062118</td>\n",
       "      <td>-0.065979</td>\n",
       "    </tr>\n",
       "    <tr>\n",
       "      <th>Telcm</th>\n",
       "      <td>0.169064</td>\n",
       "      <td>0.24494</td>\n",
       "      <td>0.83922</td>\n",
       "      <td>0.196254</td>\n",
       "      <td>0.200724</td>\n",
       "    </tr>\n",
       "    <tr>\n",
       "      <th>Shops</th>\n",
       "      <td>0.191753</td>\n",
       "      <td>0.293032</td>\n",
       "      <td>0.954792</td>\n",
       "      <td>0.275998</td>\n",
       "      <td>0.255941</td>\n",
       "    </tr>\n",
       "    <tr>\n",
       "      <th>Hlth</th>\n",
       "      <td>0.172529</td>\n",
       "      <td>0.270294</td>\n",
       "      <td>0.975867</td>\n",
       "      <td>0.238874</td>\n",
       "      <td>0.257472</td>\n",
       "    </tr>\n",
       "    <tr>\n",
       "      <th>Utils</th>\n",
       "      <td>0.210948</td>\n",
       "      <td>0.290044</td>\n",
       "      <td>1.460684</td>\n",
       "      <td>0.448429</td>\n",
       "      <td>0.474411</td>\n",
       "    </tr>\n",
       "    <tr>\n",
       "      <th>Other</th>\n",
       "      <td>0.064693</td>\n",
       "      <td>0.087351</td>\n",
       "      <td>0.300545</td>\n",
       "      <td>-0.385602</td>\n",
       "      <td>-0.404412</td>\n",
       "    </tr>\n",
       "  </tbody>\n",
       "</table>\n",
       "</div>"
      ],
      "text/plain": [
       "      Sharpe Ratio Sortino Ratio Treynor Ratio Jenson Alpha Three Factor Alpha\n",
       "NoDur     0.231099      0.350804       1.19197     0.371623           0.386704\n",
       "Durbl     0.072356      0.111967      0.368148    -0.415997          -0.474342\n",
       "Manuf     0.166616       0.24126       0.76025       0.1624           0.153285\n",
       "Enrgy     0.181708      0.273612      1.146977     0.506391           0.523007\n",
       "HiTec     0.118552       0.17062      0.565829    -0.062118          -0.065979\n",
       "Telcm     0.169064       0.24494       0.83922     0.196254           0.200724\n",
       "Shops     0.191753      0.293032      0.954792     0.275998           0.255941\n",
       "Hlth      0.172529      0.270294      0.975867     0.238874           0.257472\n",
       "Utils     0.210948      0.290044      1.460684     0.448429           0.474411\n",
       "Other     0.064693      0.087351      0.300545    -0.385602          -0.404412"
      ]
     },
     "execution_count": 122,
     "metadata": {},
     "output_type": "execute_result"
    }
   ],
   "source": [
    "df"
   ]
  },
  {
   "cell_type": "code",
   "execution_count": 123,
   "id": "fde55745",
   "metadata": {},
   "outputs": [
    {
     "data": {
      "text/plain": [
       "<Figure size 4800x3000 with 0 Axes>"
      ]
     },
     "metadata": {},
     "output_type": "display_data"
    },
    {
     "data": {
      "image/png": "[encoded data removed]",
      "text/plain": [
       "<Figure size 640x480 with 1 Axes>"
      ]
     },
     "metadata": {},
     "output_type": "display_data"
    }
   ],
   "source": [
    "plt.figure(dpi=300,figsize=[16,10])\n",
    "Sharpe.plot(kind = 'bar',xlabel = 'Industry',ylabel = 'Sharpe Ratio',width=0.3)\n",
    "plt.show()"
   ]
  },
  {
   "cell_type": "code",
   "execution_count": 124,
   "id": "87b6449c",
   "metadata": {},
   "outputs": [
    {
     "data": {
      "text/plain": [
       "<Figure size 4800x3000 with 0 Axes>"
      ]
     },
     "metadata": {},
     "output_type": "display_data"
    },
    {
     "data": {
      "image/png": "[encoded data removed]",
      "text/plain": [
       "<Figure size 640x480 with 1 Axes>"
      ]
     },
     "metadata": {},
     "output_type": "display_data"
    }
   ],
   "source": [
    "plt.figure(dpi=300,figsize=[16,10])\n",
    "Sortino.plot(kind = 'bar',xlabel = 'Industry',ylabel = 'Sortino Ratio',width=0.3)\n",
    "plt.show()"
   ]
  },
  {
   "cell_type": "code",
   "execution_count": 125,
   "id": "86ca3043",
   "metadata": {},
   "outputs": [
    {
     "data": {
      "text/plain": [
       "<Figure size 4800x3000 with 0 Axes>"
      ]
     },
     "metadata": {},
     "output_type": "display_data"
    },
    {
     "data": {
      "image/png": "[encoded data removed]",
      "text/plain": [
       "<Figure size 640x480 with 1 Axes>"
      ]
     },
     "metadata": {},
     "output_type": "display_data"
    }
   ],
   "source": [
    "plt.figure(dpi=300,figsize=[16,10])\n",
    "Treynor.plot(kind = 'bar',xlabel = 'Industry',ylabel = 'Treynor Ratio',width=0.3)\n",
    "plt.show()"
   ]
  },
  {
   "cell_type": "code",
   "execution_count": 126,
   "id": "1e57c933",
   "metadata": {},
   "outputs": [
    {
     "data": {
      "text/plain": [
       "<Figure size 4800x3000 with 0 Axes>"
      ]
     },
     "metadata": {},
     "output_type": "display_data"
    },
    {
     "data": {
      "image/png": "[encoded data removed]",
      "text/plain": [
       "<Figure size 640x480 with 1 Axes>"
      ]
     },
     "metadata": {},
     "output_type": "display_data"
    }
   ],
   "source": [
    "plt.figure(dpi=300,figsize=[16,10])\n",
    "Jenson.plot(kind = 'bar',xlabel = 'Industry',ylabel = 'Jenson Alpha',width=0.3)\n",
    "plt.show()"
   ]
  },
  {
   "cell_type": "code",
   "execution_count": 127,
   "id": "2de9d5ba",
   "metadata": {},
   "outputs": [],
   "source": [
    "FFM = FFM.drop(['Beta','Gamma','Delta'],axis=1)"
   ]
  },
  {
   "cell_type": "code",
   "execution_count": 128,
   "id": "5913ce08",
   "metadata": {},
   "outputs": [
    {
     "data": {
      "text/plain": [
       "<Figure size 4800x3000 with 0 Axes>"
      ]
     },
     "metadata": {},
     "output_type": "display_data"
    },
    {
     "data": {
      "image/png": "[encoded data removed]",
      "text/plain": [
       "<Figure size 640x480 with 1 Axes>"
      ]
     },
     "metadata": {},
     "output_type": "display_data"
    }
   ],
   "source": [
    "plt.figure(dpi=300,figsize=[16,10])\n",
    "FFM.plot(kind = 'bar',xlabel = 'Industry',ylabel = 'Three-Factor Alpha',width=0.3)\n",
    "plt.legend(loc='upper left')\n",
    "plt.show()"
   ]
  },
  {
   "cell_type": "markdown",
   "id": "479fcf83",
   "metadata": {},
   "source": [
    "#### The economic significance of each of the three performance ratios"
   ]
  },
  {
   "cell_type": "markdown",
   "id": "0cb0535b",
   "metadata": {},
   "source": [
    "1. Sharpe Ratio - Sharpe provides measure of investment's performace adjusted for the amount of risk taken. Sharpe can be used for making investment decisions such as higher Sharpe indicated better risk-adjusted performance. It can be used for risk management, capital allocation or benchmarking. It is designed to capture total risk, both systematic and idiosyncratic risk hence not useful for comparing performance of individual investment to diversified portfolio\n",
    "\n",
    "\n",
    "\n",
    "\n",
    "2. Treynor Ratio - It similar to Sharpe ratio but Treynor ratio considers systematic risk factor as against standard deviation in Sharpe ratio. Hence Treynor can be used to compare performance of individual investment to diversified portfolio. \n",
    "\n",
    "\n",
    "\n",
    "\n",
    "3. Sortino Ratio - Unlike the Sharpe Ratio, which considers all types of volatility, the Sortino Ratio focuses specifically on downside risk hence it relevant for risk-averse investors who are more concerned about avoiding losses. A higher Sortino Ratio indicates that the investment is providing a higher return relative to the level of downside risk taken."
   ]
  }
 ],
 "metadata": {
  "kernelspec": {
   "display_name": "Python 3 (ipykernel)",
   "language": "python",
   "name": "python3"
  },
  "language_info": {
   "codemirror_mode": {
    "name": "ipython",
    "version": 3
   },
   "file_extension": ".py",
   "mimetype": "text/x-python",
   "name": "python",
   "nbconvert_exporter": "python",
   "pygments_lexer": "ipython3",
   "version": "3.11.4"
  }
 },
 "nbformat": 4,
 "nbformat_minor": 5
}
